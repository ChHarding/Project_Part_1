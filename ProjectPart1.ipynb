{
 "cells": [
  {
   "cell_type": "code",
   "execution_count": 19,
   "metadata": {
    "tags": []
   },
   "outputs": [],
   "source": [
    "\n",
    "# Creating an excel workbook with one worksheet\n",
    "import xlsxwriter\n",
    "\n",
    "workbook = xlsxwriter.Workbook('ScoreConversions.xlsx')\n",
    "worksheet = workbook.add_worksheet('ExecutiveFunction')\n",
    "\n",
    "#Create Domain labels with room to fill in or calculate data\n",
    "\n",
    "worksheet.write(0, 0, \"Domain:\")\n",
    "worksheet.write(0, 5, \"Domain Average:\")\n",
    "worksheet.write(0, 6, \"Standard Score:\")\n",
    "worksheet.write(0, 8, \"Scaled Score:\")\n",
    "worksheet.write(0, 10, \"T-score:\")\n",
    "worksheet.write(0, 12, \"z-score:\")\n",
    "\n",
    "#Create  Divider\n",
    "\n",
    "worksheet.write(1, 0, \"Individual Tests:\")\n",
    "\n",
    "# Labels to add to the worksheet with 999 for temporary filler\n",
    "labels = (\n",
    "    [\"Test Name\", 999],\n",
    "    [\"Score Type\", 999],\n",
    "    [\"Patient Raw Score\", 999],\n",
    "    [\"Standardized Score\", 999],\n",
    "    [\"Conversions:\", 999],\n",
    "    )\n",
    "\n",
    "# Start in next row\n",
    "row = 2\n",
    "column = 0\n",
    "\n",
    "#Fill in labels\n",
    "for title, filler in (labels):\n",
    "    worksheet.write(row, column, title)\n",
    "    worksheet.write(row, column+1, filler)\n",
    "    row += 1\n",
    "\n",
    "workbook.close()\n"
   ]
  },
  {
   "cell_type": "code",
   "execution_count": null,
   "metadata": {},
   "outputs": [],
   "source": []
  }
 ],
 "metadata": {
  "language_info": {
   "codemirror_mode": {
    "name": "ipython",
    "version": 3
   },
   "file_extension": ".py",
   "mimetype": "text/x-python",
   "name": "python",
   "nbconvert_exporter": "python",
   "pygments_lexer": "ipython3",
   "version": "3.7.6-final"
  },
  "orig_nbformat": 2,
  "kernelspec": {
   "name": "python3",
   "display_name": "Python 3"
  }
 },
 "nbformat": 4,
 "nbformat_minor": 2
}